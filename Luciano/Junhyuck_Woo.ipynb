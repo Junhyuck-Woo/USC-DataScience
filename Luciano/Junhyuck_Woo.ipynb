{
 "cells": [
  {
   "cell_type": "markdown",
   "metadata": {},
   "source": [
    "### Writer: Junhyuck Woo\n",
    "Scope: Create and share a Colab (Jupyter) notebook to analyze transportation data for the LA-freeways dataset using the tools of your choice<br><br>\n",
    "About the dataset: The LA-freeways dataset contains average traffic speed on freeway segments in LA for 7-9am and 4-7pm (rush hours) on both directions for M-F week days<br>\n",
    "- 2016: week of May 30 - June 3 and week of June 13-17<br>\n",
    "- 2017: week of May 29 - June 2 and week of June 12-16<br>\n",
    "- 2018: week of May 28 - June 1 and week of June 11-15\n"
   ]
  },
  {
   "cell_type": "markdown",
   "metadata": {},
   "source": [
    "#### Road Visualization\n",
    "<img src=\"https://drive.google.com/uc?export=view&id=12KVB_Lxs6aj-nbWY2pAuSsfN079F42aM\">"
   ]
  },
  {
   "cell_type": "markdown",
   "metadata": {},
   "source": [
    "#### Library"
   ]
  },
  {
   "cell_type": "code",
   "execution_count": 1,
   "metadata": {},
   "outputs": [],
   "source": [
    "import pandas as pd\n",
    "import matplotlib.pyplot as plt"
   ]
  },
  {
   "cell_type": "markdown",
   "metadata": {},
   "source": [
    "#### Data path"
   ]
  },
  {
   "cell_type": "code",
   "execution_count": 2,
   "metadata": {},
   "outputs": [],
   "source": [
    "directory = './la-freeways-dataset'\n",
    "files = ['/I-210A', '/I-210B', '/I-5A', '/I-5B', '/I-405A', '/I-405B']\n",
    "extension = '.csv'"
   ]
  },
  {
   "cell_type": "markdown",
   "metadata": {},
   "source": [
    "Read data"
   ]
  },
  {
   "cell_type": "code",
   "execution_count": 3,
   "metadata": {},
   "outputs": [],
   "source": [
    "data = []\n",
    "for i in range(3):\n",
    "    # Road for A\n",
    "    path = directory + files[i*2] + extension\n",
    "    data.append(pd.read_csv(path))\n",
    "    \n",
    "    # Road For B\n",
    "    path = directory + files[i*2 + 1] + extension\n",
    "    data.append(pd.read_csv(path))"
   ]
  },
  {
   "cell_type": "markdown",
   "metadata": {},
   "source": [
    "The professor told that speed 0 means that there is no input data.<br>\n",
    "I dropped the examples (objects)."
   ]
  },
  {
   "cell_type": "code",
   "execution_count": 4,
   "metadata": {},
   "outputs": [
    {
     "name": "stdout",
     "output_type": "stream",
     "text": [
      "I-210A \t 55.58288029214336\n",
      "I-210B \t 52.984962301893844\n",
      "I-5A \t 54.512311593868304\n",
      "I-5B \t 39.15364044560975\n",
      "I-405A \t 50.56768897408627\n",
      "I-405B \t 45.953568813096396\n"
     ]
    }
   ],
   "source": [
    "clean_data = data.copy()\n",
    "avg_speed_list = []\n",
    "for i in range(len(clean_data)):\n",
    "    num, avg_speed = 0, 0\n",
    "    row = clean_data[i]['speed']\n",
    "    for j in range(len(row)):\n",
    "        if row[j] == 0:\n",
    "            clean_data[i] = clean_data[i].drop(j, 0)\n",
    "        else:\n",
    "            num += 1\n",
    "            avg_speed += row[j]\n",
    "    avg_speed /= num\n",
    "    avg_speed_list.append(avg_speed)"
   ]
  },
  {
   "cell_type": "code",
   "execution_count": 5,
   "metadata": {},
   "outputs": [],
   "source": [
    "road_speed = [(avg_speed_list[0] + avg_speed_list[1])/2, \n",
    "              (avg_speed_list[2] + avg_speed_list[3])/2, \n",
    "              (avg_speed_list[4]+ avg_speed_list[5])/2]"
   ]
  },
  {
   "cell_type": "code",
   "execution_count": 6,
   "metadata": {},
   "outputs": [
    {
     "data": {
      "image/png": "[encoded data removed]",
      "text/plain": [
       "<Figure size 1008x648 with 1 Axes>"
      ]
     },
     "metadata": {
      "needs_background": "light"
     },
     "output_type": "display_data"
    }
   ],
   "source": [
    "plt.figure(figsize=(14, 9))\n",
    "plt.plot(['I-210', 'I-5', 'I-405'], road_speed)\n",
    "plt.xlabel(\"Road Name\")\n",
    "plt.ylabel(\"Average Mile\")\n",
    "plt.title(\"Road Average Speed\")\n",
    "plt.grid()\n",
    "plt.show()"
   ]
  },
  {
   "cell_type": "markdown",
   "metadata": {},
   "source": [
    "In I-5, a vehicle could not move fast which means it has the lowest speed.<br>\n",
    "So, I decided to check more detail.<br>\n",
    "Actually, I-5 road is a consisted with I-5A and I-5B.<br>"
   ]
  },
  {
   "cell_type": "code",
   "execution_count": 20,
   "metadata": {},
   "outputs": [],
   "source": [
    "info, selected_data = [], [clean_data[2].copy().reset_index(drop=True), clean_data[3].copy().reset_index(drop=True)]\n",
    "for i in range(2):\n",
    "    pm, am, num_pm, num_am = 0, 0, 0, 0\n",
    "    row = selected_data[i]['time']\n",
    "    speed = selected_data[i]['speed']\n",
    "    \n",
    "    for j in range(len(row)):\n",
    "        if row[j] == \"7-9AM\":\n",
    "            num_am += 1\n",
    "            am += speed[j]\n",
    "        else:\n",
    "            num_pm += 1\n",
    "            pm += speed[j]\n",
    "    pm /= num_pm\n",
    "    am /= num_am\n",
    "    info.append([max(selected_data[i]['speed']), min(selected_data[i]['speed']), avg_speed_list[i+2], am, pm])"
   ]
  },
  {
   "cell_type": "code",
   "execution_count": 43,
   "metadata": {},
   "outputs": [
    {
     "data": {
      "text/html": [
       "<div>\n",
       "<style scoped>\n",
       "    .dataframe tbody tr th:only-of-type {\n",
       "        vertical-align: middle;\n",
       "    }\n",
       "\n",
       "    .dataframe tbody tr th {\n",
       "        vertical-align: top;\n",
       "    }\n",
       "\n",
       "    .dataframe thead th {\n",
       "        text-align: right;\n",
       "    }\n",
       "</style>\n",
       "<table border=\"1\" class=\"dataframe\">\n",
       "  <thead>\n",
       "    <tr style=\"text-align: right;\">\n",
       "      <th></th>\n",
       "      <th>Max</th>\n",
       "      <th>min</th>\n",
       "      <th>Average</th>\n",
       "      <th>AM</th>\n",
       "      <th>PM</th>\n",
       "    </tr>\n",
       "  </thead>\n",
       "  <tbody>\n",
       "    <tr>\n",
       "      <th>A</th>\n",
       "      <td>70.0</td>\n",
       "      <td>0.928315</td>\n",
       "      <td>54.512312</td>\n",
       "      <td>55.228121</td>\n",
       "      <td>53.797035</td>\n",
       "    </tr>\n",
       "    <tr>\n",
       "      <th>B</th>\n",
       "      <td>70.0</td>\n",
       "      <td>2.176000</td>\n",
       "      <td>39.153640</td>\n",
       "      <td>38.578542</td>\n",
       "      <td>39.731499</td>\n",
       "    </tr>\n",
       "  </tbody>\n",
       "</table>\n",
       "</div>"
      ],
      "text/plain": [
       "    Max       min    Average         AM         PM\n",
       "A  70.0  0.928315  54.512312  55.228121  53.797035\n",
       "B  70.0  2.176000  39.153640  38.578542  39.731499"
      ]
     },
     "execution_count": 43,
     "metadata": {},
     "output_type": "execute_result"
    }
   ],
   "source": [
    "information = pd.DataFrame(info, columns=['Max', 'min', 'Average', 'AM', 'PM'], index=['A','B'])\n",
    "information"
   ]
  },
  {
   "cell_type": "code",
   "execution_count": 73,
   "metadata": {},
   "outputs": [
    {
     "data": {
      "text/plain": [
       "Text(0.5, 1.0, 'Vehicle speed information')"
      ]
     },
     "execution_count": 73,
     "metadata": {},
     "output_type": "execute_result"
    },
    {
     "data": {
      "image/png": "[encoded data removed]",
      "text/plain": [
       "<Figure size 1008x648 with 1 Axes>"
      ]
     },
     "metadata": {
      "needs_background": "light"
     },
     "output_type": "display_data"
    }
   ],
   "source": [
    "plt.figure(figsize=(14, 9))\n",
    "plt.bar([i * 2 - 0.2for i in range(len(information.columns))], info[0], label='I-5A', width=0.4)\n",
    "plt.bar([i * 2 + 0.2 for i in range(len(information.columns))], info[1], label='I-5B', width=0.4)\n",
    "plt.grid()\n",
    "plt.xticks([i * 2 - 0.2for i in range(len(information.columns))], ['Max', \"min\", \"Avgerage\", \"AM\", \"PM\"])\n",
    "plt.legend()\n",
    "plt.xlabel(\"Iabel\")\n",
    "plt.ylabel(\"Mile\")\n",
    "plt.title(\"Vehicle speed information\")"
   ]
  },
  {
   "cell_type": "markdown",
   "metadata": {},
   "source": [
    "You can check the I-5B has more serious traffic problems.<br>\n",
    "Each road has two directions, I will check vehicle speed on the each of direction, N, and S, in I-5B road.<br>"
   ]
  },
  {
   "cell_type": "code",
   "execution_count": 105,
   "metadata": {},
   "outputs": [],
   "source": [
    "I_50b = selected_data[1].copy()\n",
    "am, pm, am_n, am_s, pm_n, pm_s, num_n_pm, num_s_pm, num_n_am, num_s_am = [], [], 0, 0, 0, 0,0, 0, 0, 0\n",
    "time = I_50b['time']\n",
    "direction = I_50b['direction']\n",
    "speed = I_50b['speed']\n",
    "for i in range(len(time)):\n",
    "    if time[i] == '4-7PM':\n",
    "        if direction[i] =='N':\n",
    "            num_n_pm += 1\n",
    "            pm_n += speed[i]\n",
    "        else:\n",
    "            num_s_pm += 1\n",
    "            pm_s += speed[i]\n",
    "    else:\n",
    "        if direction[i] ==\"N\":\n",
    "            num_n_am += 1\n",
    "            am_n += speed[i]\n",
    "        else:\n",
    "            num_s_am += 1\n",
    "            am_s += speed[i]\n",
    "am_n /= num_n_am\n",
    "am_s /= num_s_am\n",
    "pm_n /= num_n_pm\n",
    "pm_s /= num_s_pm\n",
    "\n",
    "am.append(am_n)\n",
    "am.append(am_s)\n",
    "pm.append(pm_n)\n",
    "pm.append(pm_s)"
   ]
  },
  {
   "cell_type": "code",
   "execution_count": 111,
   "metadata": {},
   "outputs": [
    {
     "data": {
      "image/png": "[encoded data removed]",
      "text/plain": [
       "<Figure size 1008x648 with 2 Axes>"
      ]
     },
     "metadata": {
      "needs_background": "light"
     },
     "output_type": "display_data"
    }
   ],
   "source": [
    "plt.figure(figsize=(14, 9))\n",
    "sub1 = plt.subplot(1,2,1)\n",
    "sub1.set_xlabel(\"Direction\")\n",
    "sub1.set_ylabel(\"Average Speed\")\n",
    "sub1.set_title(\"7-9 AM Average speed for each Direction\")\n",
    "sub1.bar(['N', 'S'], [am[0], 0], color='r')\n",
    "sub1.bar(['N', 'S'], [0,am[1]], color='b')\n",
    "sub1.grid()\n",
    "sub2 = plt.subplot(1,2,2)\n",
    "sub2.set_xlabel(\"Direction\")\n",
    "sub2.set_ylabel(\"Average Speed\")\n",
    "sub2.set_title(\"4-7 PM Average speed for each Direction\")\n",
    "sub2.bar(['N', 'S'], [pm[0],0], color='r')\n",
    "sub2.bar(['N', 'S'], [0,pm[1]], color='b')\n",
    "sub2.grid()\n",
    "plt.show()"
   ]
  },
  {
   "cell_type": "markdown",
   "metadata": {},
   "source": [
    "In the morning, N and S direction show a similar speed.<br>\n",
    "I think it is because of commutting time.<br>\n",
    "However, in the night, it shows huge difference.<br>\n",
    "I supposed that this is because of the residential district. <br>\n",
    "So, I tried to check data based on the date."
   ]
  },
  {
   "cell_type": "markdown",
   "metadata": {},
   "source": [
    "<img src=\"https://drive.google.com/uc?export=view&id=17VrvJJeZEzFRoFkmvMo5XLEpRaEzmo4Z\">\n",
    "I utilized \"tableau\" for visualizing the results.<br>\n",
    "This data set has only 2 years of contents, so I only visualized that part."
   ]
  },
  {
   "cell_type": "markdown",
   "metadata": {},
   "source": [
    "Final result<br>\n",
    "I thought there are unbalance of the dwelling area, as result, many people are commuting for their works or rest.<br>\n",
    "It caused the huge traffic. In my opinion, to solve this problem, the city should offer good public transportation system."
   ]
  }
 ],
 "metadata": {
  "kernelspec": {
   "display_name": "Python 3",
   "language": "python",
   "name": "python3"
  },
  "language_info": {
   "codemirror_mode": {
    "name": "ipython",
    "version": 3
   },
   "file_extension": ".py",
   "mimetype": "text/x-python",
   "name": "python",
   "nbconvert_exporter": "python",
   "pygments_lexer": "ipython3",
   "version": "3.5.0"
  }
 },
 "nbformat": 4,
 "nbformat_minor": 2
}
